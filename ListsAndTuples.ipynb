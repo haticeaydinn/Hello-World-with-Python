{
 "cells": [
  {
   "cell_type": "code",
   "execution_count": 1,
   "metadata": {
    "scrolled": true
   },
   "outputs": [
    {
     "name": "stdout",
     "output_type": "stream",
     "text": [
      "2\n",
      "1\n",
      "2\n",
      "3\n",
      "4\n",
      "5\n",
      "6\n",
      "7\n",
      "8\n",
      "9\n"
     ]
    }
   ],
   "source": [
    "# 2D Lists\n",
    "matrix = [\n",
    "    [1, 2, 3],\n",
    "    [4, 5, 6],\n",
    "    [7, 8, 9]\n",
    "]\n",
    "# matrix[0][1] = 20\n",
    "print(matrix[0][1])\n",
    "\n",
    "for row in matrix:\n",
    "    for item in row:\n",
    "        print(item)"
   ]
  },
  {
   "cell_type": "code",
   "execution_count": 12,
   "metadata": {
    "scrolled": true
   },
   "outputs": [
    {
     "name": "stdout",
     "output_type": "stream",
     "text": [
      "[]\n"
     ]
    }
   ],
   "source": [
    "# list methods\n",
    "\n",
    "numbers = [5, 2, 6, 9, 9]\n",
    "\n",
    "numbers.append(20)  # listenin sonuna yazılan elemanı ekler\n",
    "numbers.insert(1, 10)  # ilk değerdeki indekse ikinci değerdeki elemanı ekler\n",
    "numbers.remove(20)  # yazılan elemanı listeden çıkarır\n",
    "numbers.pop()  # listenin son elemanını çıkarır\n",
    "numbers.count(9)  # yazılan değerin listede kaç tane olduğunu belirtir\n",
    "numbers.sort()  # listeyi küçükten büyüğe sıralar\n",
    "numbers.reverse()  # listeyi tam tersi şekilde sıralar\n",
    "numbers.index(6)  # yazılan değerin listedeki indeksi elde edilir, örneğin 6 değeri için indeks 3'tür\n",
    "numbers.clear()  # listedeki tüm elemanları çıkarır, boş liste elde edilir\n",
    "50 in numbers  # 50 değerinin listede olup olmadığını belirtir, boolean sonuç elde edilir\n",
    "numbers2 = numbers.copy()  # numbers listesinin kopyalanır ve numbers2 listesi elde edilir\n",
    "\n",
    "print(numbers)"
   ]
  },
  {
   "cell_type": "code",
   "execution_count": 14,
   "metadata": {},
   "outputs": [
    {
     "name": "stdout",
     "output_type": "stream",
     "text": [
      "[78, 34, 16, 15, 9, 9, 2]\n"
     ]
    }
   ],
   "source": [
    "# bir listeyi büyükten küçüğe sıralamak\n",
    "numbers = [34, 15, 2, 16, 9, 9, 78]\n",
    "numbers.sort()\n",
    "numbers.reverse() \n",
    "\n",
    "print(numbers)"
   ]
  },
  {
   "cell_type": "code",
   "execution_count": 19,
   "metadata": {},
   "outputs": [
    {
     "name": "stdout",
     "output_type": "stream",
     "text": [
      "3\n",
      "0\n",
      "<class 'tuple'>\n"
     ]
    }
   ],
   "source": [
    "# tuples\n",
    "\n",
    "tuples = (2, 1, 4, 1, 4, 4)\n",
    "print(tuples.count(4))\n",
    "print(tuples.index(2))\n",
    "\n",
    "demet = 3, 2, 4\n",
    "print(type(demet))"
   ]
  },
  {
   "cell_type": "code",
   "execution_count": 20,
   "metadata": {},
   "outputs": [
    {
     "name": "stdout",
     "output_type": "stream",
     "text": [
      "1\n",
      "2\n",
      "3\n"
     ]
    }
   ],
   "source": [
    "# unpacking\n",
    "\n",
    "coordinate = (1, 2, 3)\n",
    "# x = coordinate[0]\n",
    "# y = coordinate[1]\n",
    "# z = coordinate[2]\n",
    "# yukarıdaki yazımın daha kısa yolu, Python'daki unpacking özelliğini kullanmaktır\n",
    "\n",
    "x, y, z = coordinate  # <-- unpacking\n",
    "print(x)\n",
    "print(y)\n",
    "print(z)"
   ]
  }
 ],
 "metadata": {
  "kernelspec": {
   "display_name": "Python 3",
   "language": "python",
   "name": "python3"
  },
  "language_info": {
   "codemirror_mode": {
    "name": "ipython",
    "version": 3
   },
   "file_extension": ".py",
   "mimetype": "text/x-python",
   "name": "python",
   "nbconvert_exporter": "python",
   "pygments_lexer": "ipython3",
   "version": "3.7.3"
  }
 },
 "nbformat": 4,
 "nbformat_minor": 2
}
